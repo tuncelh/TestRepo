{
 "cells": [
  {
   "cell_type": "markdown",
   "id": "c8df28e3-a0aa-4d37-8c79-d91f0c1e9a84",
   "metadata": {},
   "source": [
    "# Data Science Tools and Ecosystem"
   ]
  },
  {
   "cell_type": "markdown",
   "id": "2240145e-69ba-4eb1-b9cb-da0055d9ae40",
   "metadata": {},
   "source": [
    "In this notebook, Data Science Tools and Ecosystem are summarized."
   ]
  },
  {
   "cell_type": "markdown",
   "id": "f51874e3-15ac-4c76-a9b4-627c616b4911",
   "metadata": {},
   "source": [
    "Objectives:\n",
    "\n",
    "• List popular languages for Data Science\n",
    "\n",
    "• Data Science Tools\n",
    "\n",
    "• Some of the popular languages that Data Scienstist use"
   ]
  },
  {
   "cell_type": "markdown",
   "id": "9c6918f5-edf9-438e-9d78-ceccb83e9e2a",
   "metadata": {},
   "source": [
    "Some of the popular languages that Data Scientists use are:\n",
    "\n",
    "1. Python\n",
    "2. R\n",
    "3. SQL"
   ]
  },
  {
   "cell_type": "markdown",
   "id": "9340231b-4b13-4833-b6ae-5c093a132e6f",
   "metadata": {},
   "source": [
    "Some of the commonly used libraries used by Data Scientists include:\n",
    "\n",
    "1. NumPy\n",
    "2. SciPy\n",
    "3. Pandas"
   ]
  },
  {
   "cell_type": "markdown",
   "id": "9594cdac-3775-45b9-9b62-72259bb87171",
   "metadata": {},
   "source": [
    "| Data Science Tools |\n",
    "| -----------------  |\n",
    "| RStudio |\n",
    "| Jupyter Notebooks |\n",
    "| Github |"
   ]
  },
  {
   "cell_type": "markdown",
   "id": "df6f75b2-0269-4717-bccc-36359a96418b",
   "metadata": {},
   "source": [
    "### Below are a few examples of evaluating arithmetic expressions in Python"
   ]
  },
  {
   "cell_type": "code",
   "execution_count": 1,
   "id": "57b7ebd0-d8db-4f7c-bf17-fdab94a768e6",
   "metadata": {
    "tags": []
   },
   "outputs": [
    {
     "data": {
      "text/plain": [
       "17"
      ]
     },
     "execution_count": 1,
     "metadata": {},
     "output_type": "execute_result"
    }
   ],
   "source": [
    "(3*4)+5"
   ]
  },
  {
   "cell_type": "code",
   "execution_count": 3,
   "id": "fdbc0c50-fd2a-4460-849f-0d4a3e199fbe",
   "metadata": {
    "tags": []
   },
   "outputs": [
    {
     "data": {
      "text/plain": [
       "3.3333333333333335"
      ]
     },
     "execution_count": 3,
     "metadata": {},
     "output_type": "execute_result"
    }
   ],
   "source": [
    "# This will convert 200 minutes to hours by diving by 60\n",
    "\n",
    "200/60\n"
   ]
  },
  {
   "cell_type": "code",
   "execution_count": null,
   "id": "1a928a5e-f167-46e7-9f18-6a7cf5e7f434",
   "metadata": {},
   "outputs": [],
   "source": []
  }
 ],
 "metadata": {
  "kernelspec": {
   "display_name": "Python",
   "language": "python",
   "name": "conda-env-python-py"
  },
  "language_info": {
   "codemirror_mode": {
    "name": "ipython",
    "version": 3
   },
   "file_extension": ".py",
   "mimetype": "text/x-python",
   "name": "python",
   "nbconvert_exporter": "python",
   "pygments_lexer": "ipython3",
   "version": "3.7.12"
  }
 },
 "nbformat": 4,
 "nbformat_minor": 5
}
